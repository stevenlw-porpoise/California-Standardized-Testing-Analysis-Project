{
 "cells": [
  {
   "cell_type": "code",
   "execution_count": 2,
   "metadata": {},
   "outputs": [],
   "source": [
    "# Imports:\n",
    "import pandas as pd\n",
    "import numpy as np\n",
    "import matplotlib.pyplot as plt\n",
    "import seaborn as sns"
   ]
  },
  {
   "cell_type": "code",
   "execution_count": 3,
   "metadata": {},
   "outputs": [],
   "source": [
    "act_ca = pd.read_csv('data/act_2019_ca.csv')\n",
    "sat_ca = pd.read_csv('data/sat_2019_ca.csv')\n",
    "districts = pd.read_csv('data/pubdistricts.txt', sep = '\\t')"
   ]
  },
  {
   "cell_type": "markdown",
   "metadata": {},
   "source": [
    "### County, district, school sizes"
   ]
  },
  {
   "cell_type": "code",
   "execution_count": 4,
   "metadata": {},
   "outputs": [
    {
     "data": {
      "text/html": [
       "<div>\n",
       "<style scoped>\n",
       "    .dataframe tbody tr th:only-of-type {\n",
       "        vertical-align: middle;\n",
       "    }\n",
       "\n",
       "    .dataframe tbody tr th {\n",
       "        vertical-align: top;\n",
       "    }\n",
       "\n",
       "    .dataframe thead th {\n",
       "        text-align: right;\n",
       "    }\n",
       "</style>\n",
       "<table border=\"1\" class=\"dataframe\">\n",
       "  <thead>\n",
       "    <tr style=\"text-align: right;\">\n",
       "      <th></th>\n",
       "      <th>CDS</th>\n",
       "      <th>CCode</th>\n",
       "      <th>CDCode</th>\n",
       "      <th>SCode</th>\n",
       "      <th>SName</th>\n",
       "      <th>DName</th>\n",
       "      <th>CName</th>\n",
       "      <th>Enroll12</th>\n",
       "      <th>NumTstTakr</th>\n",
       "      <th>AvgScrRead</th>\n",
       "      <th>AvgScrEng</th>\n",
       "      <th>AvgScrMath</th>\n",
       "      <th>AvgScrSci</th>\n",
       "      <th>NumGE21</th>\n",
       "      <th>PctGE21</th>\n",
       "      <th>Year</th>\n",
       "      <th>Unnamed: 17</th>\n",
       "    </tr>\n",
       "    <tr>\n",
       "      <th>RType</th>\n",
       "      <th></th>\n",
       "      <th></th>\n",
       "      <th></th>\n",
       "      <th></th>\n",
       "      <th></th>\n",
       "      <th></th>\n",
       "      <th></th>\n",
       "      <th></th>\n",
       "      <th></th>\n",
       "      <th></th>\n",
       "      <th></th>\n",
       "      <th></th>\n",
       "      <th></th>\n",
       "      <th></th>\n",
       "      <th></th>\n",
       "      <th></th>\n",
       "      <th></th>\n",
       "    </tr>\n",
       "  </thead>\n",
       "  <tbody>\n",
       "    <tr>\n",
       "      <th>C</th>\n",
       "      <td>58</td>\n",
       "      <td>58</td>\n",
       "      <td>58</td>\n",
       "      <td>58</td>\n",
       "      <td>0</td>\n",
       "      <td>0</td>\n",
       "      <td>58</td>\n",
       "      <td>58</td>\n",
       "      <td>58</td>\n",
       "      <td>57</td>\n",
       "      <td>57</td>\n",
       "      <td>57</td>\n",
       "      <td>57</td>\n",
       "      <td>57</td>\n",
       "      <td>57</td>\n",
       "      <td>58</td>\n",
       "      <td>0</td>\n",
       "    </tr>\n",
       "    <tr>\n",
       "      <th>D</th>\n",
       "      <td>522</td>\n",
       "      <td>522</td>\n",
       "      <td>522</td>\n",
       "      <td>0</td>\n",
       "      <td>0</td>\n",
       "      <td>522</td>\n",
       "      <td>522</td>\n",
       "      <td>522</td>\n",
       "      <td>522</td>\n",
       "      <td>459</td>\n",
       "      <td>459</td>\n",
       "      <td>459</td>\n",
       "      <td>459</td>\n",
       "      <td>459</td>\n",
       "      <td>459</td>\n",
       "      <td>522</td>\n",
       "      <td>0</td>\n",
       "    </tr>\n",
       "    <tr>\n",
       "      <th>S</th>\n",
       "      <td>1728</td>\n",
       "      <td>1728</td>\n",
       "      <td>1728</td>\n",
       "      <td>1728</td>\n",
       "      <td>1728</td>\n",
       "      <td>1728</td>\n",
       "      <td>1728</td>\n",
       "      <td>1728</td>\n",
       "      <td>1728</td>\n",
       "      <td>1436</td>\n",
       "      <td>1436</td>\n",
       "      <td>1436</td>\n",
       "      <td>1436</td>\n",
       "      <td>1436</td>\n",
       "      <td>1436</td>\n",
       "      <td>1728</td>\n",
       "      <td>0</td>\n",
       "    </tr>\n",
       "    <tr>\n",
       "      <th>X</th>\n",
       "      <td>1</td>\n",
       "      <td>1</td>\n",
       "      <td>1</td>\n",
       "      <td>1</td>\n",
       "      <td>1</td>\n",
       "      <td>1</td>\n",
       "      <td>1</td>\n",
       "      <td>1</td>\n",
       "      <td>1</td>\n",
       "      <td>1</td>\n",
       "      <td>1</td>\n",
       "      <td>1</td>\n",
       "      <td>1</td>\n",
       "      <td>1</td>\n",
       "      <td>1</td>\n",
       "      <td>1</td>\n",
       "      <td>0</td>\n",
       "    </tr>\n",
       "  </tbody>\n",
       "</table>\n",
       "</div>"
      ],
      "text/plain": [
       "        CDS  CCode  CDCode  SCode  SName  DName  CName  Enroll12  NumTstTakr  \\\n",
       "RType                                                                          \n",
       "C        58     58      58     58      0      0     58        58          58   \n",
       "D       522    522     522      0      0    522    522       522         522   \n",
       "S      1728   1728    1728   1728   1728   1728   1728      1728        1728   \n",
       "X         1      1       1      1      1      1      1         1           1   \n",
       "\n",
       "       AvgScrRead  AvgScrEng  AvgScrMath  AvgScrSci  NumGE21  PctGE21  Year  \\\n",
       "RType                                                                         \n",
       "C              57         57          57         57       57       57    58   \n",
       "D             459        459         459        459      459      459   522   \n",
       "S            1436       1436        1436       1436     1436     1436  1728   \n",
       "X               1          1           1          1        1        1     1   \n",
       "\n",
       "       Unnamed: 17  \n",
       "RType               \n",
       "C                0  \n",
       "D                0  \n",
       "S                0  \n",
       "X                0  "
      ]
     },
     "execution_count": 4,
     "metadata": {},
     "output_type": "execute_result"
    }
   ],
   "source": [
    "act_ca.groupby('RType').count()"
   ]
  },
  {
   "cell_type": "code",
   "execution_count": 5,
   "metadata": {},
   "outputs": [
    {
     "data": {
      "text/html": [
       "<div>\n",
       "<style scoped>\n",
       "    .dataframe tbody tr th:only-of-type {\n",
       "        vertical-align: middle;\n",
       "    }\n",
       "\n",
       "    .dataframe tbody tr th {\n",
       "        vertical-align: top;\n",
       "    }\n",
       "\n",
       "    .dataframe thead th {\n",
       "        text-align: right;\n",
       "    }\n",
       "</style>\n",
       "<table border=\"1\" class=\"dataframe\">\n",
       "  <thead>\n",
       "    <tr style=\"text-align: right;\">\n",
       "      <th></th>\n",
       "      <th>CDS</th>\n",
       "      <th>CCode</th>\n",
       "      <th>CDCode</th>\n",
       "      <th>SCode</th>\n",
       "      <th>SName</th>\n",
       "      <th>DName</th>\n",
       "      <th>CName</th>\n",
       "      <th>Enroll12</th>\n",
       "      <th>NumTSTTakr12</th>\n",
       "      <th>NumERWBenchmark12</th>\n",
       "      <th>...</th>\n",
       "      <th>NumERWBenchmark11</th>\n",
       "      <th>PctERWBenchmark11</th>\n",
       "      <th>NumMathBenchmark11</th>\n",
       "      <th>PctMathBenchmark11</th>\n",
       "      <th>TotNumBothBenchmark12</th>\n",
       "      <th>PctBothBenchmark12</th>\n",
       "      <th>TotNumBothBenchmark11</th>\n",
       "      <th>PctBothBenchmark11</th>\n",
       "      <th>Year</th>\n",
       "      <th>Unnamed: 25</th>\n",
       "    </tr>\n",
       "    <tr>\n",
       "      <th>RType</th>\n",
       "      <th></th>\n",
       "      <th></th>\n",
       "      <th></th>\n",
       "      <th></th>\n",
       "      <th></th>\n",
       "      <th></th>\n",
       "      <th></th>\n",
       "      <th></th>\n",
       "      <th></th>\n",
       "      <th></th>\n",
       "      <th></th>\n",
       "      <th></th>\n",
       "      <th></th>\n",
       "      <th></th>\n",
       "      <th></th>\n",
       "      <th></th>\n",
       "      <th></th>\n",
       "      <th></th>\n",
       "      <th></th>\n",
       "      <th></th>\n",
       "      <th></th>\n",
       "    </tr>\n",
       "  </thead>\n",
       "  <tbody>\n",
       "    <tr>\n",
       "      <th>C</th>\n",
       "      <td>58</td>\n",
       "      <td>58</td>\n",
       "      <td>58</td>\n",
       "      <td>58</td>\n",
       "      <td>0</td>\n",
       "      <td>0</td>\n",
       "      <td>58</td>\n",
       "      <td>58</td>\n",
       "      <td>58</td>\n",
       "      <td>57</td>\n",
       "      <td>...</td>\n",
       "      <td>57</td>\n",
       "      <td>57</td>\n",
       "      <td>57</td>\n",
       "      <td>57</td>\n",
       "      <td>57</td>\n",
       "      <td>57</td>\n",
       "      <td>57</td>\n",
       "      <td>57</td>\n",
       "      <td>58</td>\n",
       "      <td>0</td>\n",
       "    </tr>\n",
       "    <tr>\n",
       "      <th>D</th>\n",
       "      <td>539</td>\n",
       "      <td>539</td>\n",
       "      <td>539</td>\n",
       "      <td>539</td>\n",
       "      <td>0</td>\n",
       "      <td>539</td>\n",
       "      <td>539</td>\n",
       "      <td>539</td>\n",
       "      <td>539</td>\n",
       "      <td>501</td>\n",
       "      <td>...</td>\n",
       "      <td>495</td>\n",
       "      <td>495</td>\n",
       "      <td>495</td>\n",
       "      <td>495</td>\n",
       "      <td>501</td>\n",
       "      <td>501</td>\n",
       "      <td>495</td>\n",
       "      <td>495</td>\n",
       "      <td>539</td>\n",
       "      <td>0</td>\n",
       "    </tr>\n",
       "    <tr>\n",
       "      <th>S</th>\n",
       "      <td>1981</td>\n",
       "      <td>1981</td>\n",
       "      <td>1981</td>\n",
       "      <td>1981</td>\n",
       "      <td>1981</td>\n",
       "      <td>1981</td>\n",
       "      <td>1981</td>\n",
       "      <td>1981</td>\n",
       "      <td>1981</td>\n",
       "      <td>1745</td>\n",
       "      <td>...</td>\n",
       "      <td>1716</td>\n",
       "      <td>1716</td>\n",
       "      <td>1716</td>\n",
       "      <td>1716</td>\n",
       "      <td>1745</td>\n",
       "      <td>1745</td>\n",
       "      <td>1716</td>\n",
       "      <td>1716</td>\n",
       "      <td>1981</td>\n",
       "      <td>0</td>\n",
       "    </tr>\n",
       "    <tr>\n",
       "      <th>X</th>\n",
       "      <td>1</td>\n",
       "      <td>1</td>\n",
       "      <td>1</td>\n",
       "      <td>1</td>\n",
       "      <td>1</td>\n",
       "      <td>1</td>\n",
       "      <td>1</td>\n",
       "      <td>1</td>\n",
       "      <td>1</td>\n",
       "      <td>1</td>\n",
       "      <td>...</td>\n",
       "      <td>1</td>\n",
       "      <td>1</td>\n",
       "      <td>1</td>\n",
       "      <td>1</td>\n",
       "      <td>1</td>\n",
       "      <td>1</td>\n",
       "      <td>1</td>\n",
       "      <td>1</td>\n",
       "      <td>1</td>\n",
       "      <td>0</td>\n",
       "    </tr>\n",
       "  </tbody>\n",
       "</table>\n",
       "<p>4 rows × 25 columns</p>\n",
       "</div>"
      ],
      "text/plain": [
       "        CDS  CCode  CDCode  SCode  SName  DName  CName  Enroll12  \\\n",
       "RType                                                              \n",
       "C        58     58      58     58      0      0     58        58   \n",
       "D       539    539     539    539      0    539    539       539   \n",
       "S      1981   1981    1981   1981   1981   1981   1981      1981   \n",
       "X         1      1       1      1      1      1      1         1   \n",
       "\n",
       "       NumTSTTakr12  NumERWBenchmark12  ...  NumERWBenchmark11  \\\n",
       "RType                                   ...                      \n",
       "C                58                 57  ...                 57   \n",
       "D               539                501  ...                495   \n",
       "S              1981               1745  ...               1716   \n",
       "X                 1                  1  ...                  1   \n",
       "\n",
       "       PctERWBenchmark11  NumMathBenchmark11  PctMathBenchmark11  \\\n",
       "RType                                                              \n",
       "C                     57                  57                  57   \n",
       "D                    495                 495                 495   \n",
       "S                   1716                1716                1716   \n",
       "X                      1                   1                   1   \n",
       "\n",
       "       TotNumBothBenchmark12  PctBothBenchmark12  TotNumBothBenchmark11  \\\n",
       "RType                                                                     \n",
       "C                         57                  57                     57   \n",
       "D                        501                 501                    495   \n",
       "S                       1745                1745                   1716   \n",
       "X                          1                   1                      1   \n",
       "\n",
       "       PctBothBenchmark11  Year  Unnamed: 25  \n",
       "RType                                         \n",
       "C                      57    58            0  \n",
       "D                     495   539            0  \n",
       "S                    1716  1981            0  \n",
       "X                       1     1            0  \n",
       "\n",
       "[4 rows x 25 columns]"
      ]
     },
     "execution_count": 5,
     "metadata": {},
     "output_type": "execute_result"
    }
   ],
   "source": [
    "sat_ca.groupby('RType').count()"
   ]
  },
  {
   "cell_type": "code",
   "execution_count": 6,
   "metadata": {},
   "outputs": [
    {
     "name": "stdout",
     "output_type": "stream",
     "text": [
      "(1088, 24)\n"
     ]
    },
    {
     "data": {
      "text/html": [
       "<div>\n",
       "<style scoped>\n",
       "    .dataframe tbody tr th:only-of-type {\n",
       "        vertical-align: middle;\n",
       "    }\n",
       "\n",
       "    .dataframe tbody tr th {\n",
       "        vertical-align: top;\n",
       "    }\n",
       "\n",
       "    .dataframe thead th {\n",
       "        text-align: right;\n",
       "    }\n",
       "</style>\n",
       "<table border=\"1\" class=\"dataframe\">\n",
       "  <thead>\n",
       "    <tr style=\"text-align: right;\">\n",
       "      <th></th>\n",
       "      <th>CD Code</th>\n",
       "      <th>County</th>\n",
       "      <th>District</th>\n",
       "      <th>Street</th>\n",
       "      <th>City</th>\n",
       "      <th>Zip</th>\n",
       "      <th>State</th>\n",
       "      <th>MailStreet</th>\n",
       "      <th>MailCity</th>\n",
       "      <th>MailZip</th>\n",
       "      <th>...</th>\n",
       "      <th>Email</th>\n",
       "      <th>AdmFName</th>\n",
       "      <th>AdmLName</th>\n",
       "      <th>AdmEmail</th>\n",
       "      <th>Latitude</th>\n",
       "      <th>Longitude</th>\n",
       "      <th>DOC</th>\n",
       "      <th>DOCType</th>\n",
       "      <th>StatusType</th>\n",
       "      <th>LastUpDate</th>\n",
       "    </tr>\n",
       "  </thead>\n",
       "  <tbody>\n",
       "    <tr>\n",
       "      <th>640</th>\n",
       "      <td>3675051</td>\n",
       "      <td>San Bernardino</td>\n",
       "      <td>Lucerne Valley Unified</td>\n",
       "      <td>8560 Aliento Road</td>\n",
       "      <td>Lucerne Valley</td>\n",
       "      <td>92356-7678</td>\n",
       "      <td>CA</td>\n",
       "      <td>8560 Aliento Road</td>\n",
       "      <td>Lucerne Valley</td>\n",
       "      <td>92356-7678</td>\n",
       "      <td>...</td>\n",
       "      <td>peter_livingston@lucernevalleyusd.org</td>\n",
       "      <td>Peter</td>\n",
       "      <td>Livingston</td>\n",
       "      <td>peter_livingston@lucernevalleyusd.org</td>\n",
       "      <td>34.408040</td>\n",
       "      <td>-116.90672</td>\n",
       "      <td>54</td>\n",
       "      <td>Unified School District</td>\n",
       "      <td>Active</td>\n",
       "      <td>05/02/2019</td>\n",
       "    </tr>\n",
       "    <tr>\n",
       "      <th>1011</th>\n",
       "      <td>5471985</td>\n",
       "      <td>Tulare</td>\n",
       "      <td>Liberty Elementary</td>\n",
       "      <td>1771 East Pacific Avenue</td>\n",
       "      <td>Tulare</td>\n",
       "      <td>93274-1106</td>\n",
       "      <td>CA</td>\n",
       "      <td>1771 East Pacific Avenue</td>\n",
       "      <td>Tulare</td>\n",
       "      <td>93274-1106</td>\n",
       "      <td>...</td>\n",
       "      <td>No Data</td>\n",
       "      <td>Deanna</td>\n",
       "      <td>Cardoza</td>\n",
       "      <td>dcardoza@liberty.k12.ca.us</td>\n",
       "      <td>36.247655</td>\n",
       "      <td>-119.31323</td>\n",
       "      <td>52</td>\n",
       "      <td>Elementary School District</td>\n",
       "      <td>Active</td>\n",
       "      <td>11/10/2020</td>\n",
       "    </tr>\n",
       "    <tr>\n",
       "      <th>230</th>\n",
       "      <td>1563719</td>\n",
       "      <td>Kern</td>\n",
       "      <td>Pond Union Elementary</td>\n",
       "      <td>29585 Pond Road</td>\n",
       "      <td>Wasco</td>\n",
       "      <td>93280-0927</td>\n",
       "      <td>CA</td>\n",
       "      <td>29585 Pond Road</td>\n",
       "      <td>Wasco</td>\n",
       "      <td>93280-0927</td>\n",
       "      <td>...</td>\n",
       "      <td>khoward@pond.k12.ca.us</td>\n",
       "      <td>Alex</td>\n",
       "      <td>Lopez</td>\n",
       "      <td>alopez@pond.k12.ca.us</td>\n",
       "      <td>35.717699</td>\n",
       "      <td>-119.32080</td>\n",
       "      <td>52</td>\n",
       "      <td>Elementary School District</td>\n",
       "      <td>Active</td>\n",
       "      <td>07/15/2019</td>\n",
       "    </tr>\n",
       "    <tr>\n",
       "      <th>275</th>\n",
       "      <td>1864139</td>\n",
       "      <td>Lassen</td>\n",
       "      <td>Lassen Union High</td>\n",
       "      <td>1000 Main Street</td>\n",
       "      <td>Susanville</td>\n",
       "      <td>96130-4409</td>\n",
       "      <td>CA</td>\n",
       "      <td>1000 Main Street</td>\n",
       "      <td>Susanville</td>\n",
       "      <td>96130-4409</td>\n",
       "      <td>...</td>\n",
       "      <td>No Data</td>\n",
       "      <td>Morgan</td>\n",
       "      <td>Nugent</td>\n",
       "      <td>morgan.nugent@lassenhigh.org</td>\n",
       "      <td>40.417396</td>\n",
       "      <td>-120.65775</td>\n",
       "      <td>56</td>\n",
       "      <td>High School District</td>\n",
       "      <td>Active</td>\n",
       "      <td>05/06/2019</td>\n",
       "    </tr>\n",
       "    <tr>\n",
       "      <th>436</th>\n",
       "      <td>2465821</td>\n",
       "      <td>Merced</td>\n",
       "      <td>Planada Elementary</td>\n",
       "      <td>9722 East Haskell Avenue</td>\n",
       "      <td>Planada</td>\n",
       "      <td>95365-8050</td>\n",
       "      <td>CA</td>\n",
       "      <td>PO Box 236</td>\n",
       "      <td>Planada</td>\n",
       "      <td>95365-0236</td>\n",
       "      <td>...</td>\n",
       "      <td>cmurillo@planada.org</td>\n",
       "      <td>José</td>\n",
       "      <td>González</td>\n",
       "      <td>jgonzalez@planada.org</td>\n",
       "      <td>37.292925</td>\n",
       "      <td>-120.31164</td>\n",
       "      <td>52</td>\n",
       "      <td>Elementary School District</td>\n",
       "      <td>Active</td>\n",
       "      <td>08/21/2019</td>\n",
       "    </tr>\n",
       "  </tbody>\n",
       "</table>\n",
       "<p>5 rows × 24 columns</p>\n",
       "</div>"
      ],
      "text/plain": [
       "      CD Code          County                District  \\\n",
       "640   3675051  San Bernardino  Lucerne Valley Unified   \n",
       "1011  5471985          Tulare      Liberty Elementary   \n",
       "230   1563719            Kern   Pond Union Elementary   \n",
       "275   1864139          Lassen       Lassen Union High   \n",
       "436   2465821          Merced      Planada Elementary   \n",
       "\n",
       "                        Street            City         Zip State  \\\n",
       "640          8560 Aliento Road  Lucerne Valley  92356-7678    CA   \n",
       "1011  1771 East Pacific Avenue          Tulare  93274-1106    CA   \n",
       "230            29585 Pond Road           Wasco  93280-0927    CA   \n",
       "275           1000 Main Street      Susanville  96130-4409    CA   \n",
       "436   9722 East Haskell Avenue         Planada  95365-8050    CA   \n",
       "\n",
       "                    MailStreet        MailCity     MailZip  ...  \\\n",
       "640          8560 Aliento Road  Lucerne Valley  92356-7678  ...   \n",
       "1011  1771 East Pacific Avenue          Tulare  93274-1106  ...   \n",
       "230            29585 Pond Road           Wasco  93280-0927  ...   \n",
       "275           1000 Main Street      Susanville  96130-4409  ...   \n",
       "436                 PO Box 236         Planada  95365-0236  ...   \n",
       "\n",
       "                                      Email AdmFName    AdmLName  \\\n",
       "640   peter_livingston@lucernevalleyusd.org    Peter  Livingston   \n",
       "1011                                No Data   Deanna     Cardoza   \n",
       "230                  khoward@pond.k12.ca.us     Alex       Lopez   \n",
       "275                                 No Data   Morgan      Nugent   \n",
       "436                    cmurillo@planada.org     José    González   \n",
       "\n",
       "                                   AdmEmail   Latitude  Longitude DOC  \\\n",
       "640   peter_livingston@lucernevalleyusd.org  34.408040 -116.90672  54   \n",
       "1011             dcardoza@liberty.k12.ca.us  36.247655 -119.31323  52   \n",
       "230                   alopez@pond.k12.ca.us  35.717699 -119.32080  52   \n",
       "275            morgan.nugent@lassenhigh.org  40.417396 -120.65775  56   \n",
       "436                   jgonzalez@planada.org  37.292925 -120.31164  52   \n",
       "\n",
       "                         DOCType  StatusType  LastUpDate  \n",
       "640      Unified School District      Active  05/02/2019  \n",
       "1011  Elementary School District      Active  11/10/2020  \n",
       "230   Elementary School District      Active  07/15/2019  \n",
       "275         High School District      Active  05/06/2019  \n",
       "436   Elementary School District      Active  08/21/2019  \n",
       "\n",
       "[5 rows x 24 columns]"
      ]
     },
     "execution_count": 6,
     "metadata": {},
     "output_type": "execute_result"
    }
   ],
   "source": [
    "print(districts.shape)\n",
    "districts.sample(5)"
   ]
  },
  {
   "cell_type": "markdown",
   "metadata": {},
   "source": [
    "Should be 1088 districts - only half take either SAT's or ACTs."
   ]
  },
  {
   "cell_type": "code",
   "execution_count": 7,
   "metadata": {},
   "outputs": [
    {
     "data": {
      "text/plain": [
       "CD Code                          3166910\n",
       "County                            Placer\n",
       "District       Roseville City Elementary\n",
       "Street                  1050 Main Street\n",
       "City                           Roseville\n",
       "Zip                           95678-2067\n",
       "State                                 CA\n",
       "MailStreet              1050 Main Street\n",
       "MailCity                       Roseville\n",
       "MailZip                       95678-2067\n",
       "MailState                             CA\n",
       "Phone                     (916) 771-1600\n",
       "Ext                              No Data\n",
       "FaxNumber                 (916) 771-1620\n",
       "Email                            No Data\n",
       "AdmFName                            Derk\n",
       "AdmLName                          Garcia\n",
       "AdmEmail              dgarcia@rcsdk8.org\n",
       "Latitude                       38.751856\n",
       "Longitude                      -121.3046\n",
       "DOC                                   52\n",
       "DOCType       Elementary School District\n",
       "StatusType                        Active\n",
       "LastUpDate                    02/10/2020\n",
       "Name: 543, dtype: object"
      ]
     },
     "execution_count": 7,
     "metadata": {},
     "output_type": "execute_result"
    }
   ],
   "source": [
    "# But some districts have no high schools \n",
    "districts.iloc[543]"
   ]
  },
  {
   "cell_type": "code",
   "execution_count": 27,
   "metadata": {},
   "outputs": [],
   "source": [
    "act_size = act_ca[['CDS', 'RType']]\n",
    "sat_size = sat_ca[['CDS', 'RType', 'Enroll12', 'Enroll11']]"
   ]
  },
  {
   "cell_type": "code",
   "execution_count": 28,
   "metadata": {},
   "outputs": [],
   "source": [
    "df_all = pd.merge(act_size, sat_size, how = 'outer', on = 'CDS') # entities with either act or sat\n",
    "df_both = pd.merge(act_size, sat_size, how = 'inner', on = 'CDS') # entities with both act and Sat"
   ]
  },
  {
   "cell_type": "code",
   "execution_count": 30,
   "metadata": {},
   "outputs": [
    {
     "data": {
      "text/html": [
       "<div>\n",
       "<style scoped>\n",
       "    .dataframe tbody tr th:only-of-type {\n",
       "        vertical-align: middle;\n",
       "    }\n",
       "\n",
       "    .dataframe tbody tr th {\n",
       "        vertical-align: top;\n",
       "    }\n",
       "\n",
       "    .dataframe thead th {\n",
       "        text-align: right;\n",
       "    }\n",
       "</style>\n",
       "<table border=\"1\" class=\"dataframe\">\n",
       "  <thead>\n",
       "    <tr style=\"text-align: right;\">\n",
       "      <th></th>\n",
       "      <th>CDS</th>\n",
       "      <th>RType_x</th>\n",
       "      <th>RType_y</th>\n",
       "      <th>Enroll12</th>\n",
       "      <th>Enroll11</th>\n",
       "    </tr>\n",
       "  </thead>\n",
       "  <tbody>\n",
       "    <tr>\n",
       "      <th>0</th>\n",
       "      <td>3.366993e+13</td>\n",
       "      <td>S</td>\n",
       "      <td>S</td>\n",
       "      <td>18.0</td>\n",
       "      <td>34.0</td>\n",
       "    </tr>\n",
       "    <tr>\n",
       "      <th>1</th>\n",
       "      <td>1.964212e+13</td>\n",
       "      <td>S</td>\n",
       "      <td>S</td>\n",
       "      <td>58.0</td>\n",
       "      <td>13.0</td>\n",
       "    </tr>\n",
       "    <tr>\n",
       "      <th>2</th>\n",
       "      <td>1.563776e+13</td>\n",
       "      <td>S</td>\n",
       "      <td>S</td>\n",
       "      <td>18.0</td>\n",
       "      <td>27.0</td>\n",
       "    </tr>\n",
       "    <tr>\n",
       "      <th>3</th>\n",
       "      <td>4.369666e+13</td>\n",
       "      <td>S</td>\n",
       "      <td>S</td>\n",
       "      <td>463.0</td>\n",
       "      <td>453.0</td>\n",
       "    </tr>\n",
       "    <tr>\n",
       "      <th>4</th>\n",
       "      <td>1.964733e+13</td>\n",
       "      <td>S</td>\n",
       "      <td>S</td>\n",
       "      <td>226.0</td>\n",
       "      <td>234.0</td>\n",
       "    </tr>\n",
       "  </tbody>\n",
       "</table>\n",
       "</div>"
      ],
      "text/plain": [
       "            CDS RType_x RType_y  Enroll12  Enroll11\n",
       "0  3.366993e+13       S       S      18.0      34.0\n",
       "1  1.964212e+13       S       S      58.0      13.0\n",
       "2  1.563776e+13       S       S      18.0      27.0\n",
       "3  4.369666e+13       S       S     463.0     453.0\n",
       "4  1.964733e+13       S       S     226.0     234.0"
      ]
     },
     "execution_count": 30,
     "metadata": {},
     "output_type": "execute_result"
    }
   ],
   "source": [
    "df_all.head()\n",
    "# df_both.head()"
   ]
  },
  {
   "cell_type": "code",
   "execution_count": 26,
   "metadata": {},
   "outputs": [
    {
     "data": {
      "text/plain": [
       "False"
      ]
     },
     "execution_count": 26,
     "metadata": {},
     "output_type": "execute_result"
    }
   ],
   "source": [
    "# ~df_all[df_all['Enroll12_x'] != df_all['Enroll12_y']].isna().any(axis = 1).any() \n",
    "# Enrollment numbers agree"
   ]
  },
  {
   "cell_type": "code",
   "execution_count": 10,
   "metadata": {},
   "outputs": [
    {
     "data": {
      "text/plain": [
       "CDS             1\n",
       "RType_x       280\n",
       "Enroll12_x    280\n",
       "RType_y        10\n",
       "Enroll12_y     10\n",
       "Enroll11       10\n",
       "dtype: int64"
      ]
     },
     "execution_count": 10,
     "metadata": {},
     "output_type": "execute_result"
    }
   ],
   "source": [
    "# 280 entities are ACT only, 10 are SAT only\n",
    "df_all.isna().sum()"
   ]
  },
  {
   "cell_type": "code",
   "execution_count": 15,
   "metadata": {},
   "outputs": [
    {
     "ename": "KeyError",
     "evalue": "'RType'",
     "output_type": "error",
     "traceback": [
      "\u001b[1;31m---------------------------------------------------------------------------\u001b[0m",
      "\u001b[1;31mKeyError\u001b[0m                                  Traceback (most recent call last)",
      "\u001b[1;32m~\\AppData\\Local\\Temp/ipykernel_14056/2751161650.py\u001b[0m in \u001b[0;36m<module>\u001b[1;34m\u001b[0m\n\u001b[1;32m----> 1\u001b[1;33m \u001b[0mdf_both\u001b[0m\u001b[1;33m.\u001b[0m\u001b[0mgroupby\u001b[0m\u001b[1;33m(\u001b[0m\u001b[1;34m'RType'\u001b[0m\u001b[1;33m)\u001b[0m\u001b[1;33m.\u001b[0m\u001b[0mcount\u001b[0m\u001b[1;33m(\u001b[0m\u001b[1;33m)\u001b[0m\u001b[1;33m\u001b[0m\u001b[1;33m\u001b[0m\u001b[0m\n\u001b[0m",
      "\u001b[1;32m~\\Anaconda3\\lib\\site-packages\\pandas\\core\\frame.py\u001b[0m in \u001b[0;36mgroupby\u001b[1;34m(self, by, axis, level, as_index, sort, group_keys, squeeze, observed, dropna)\u001b[0m\n\u001b[0;32m   7629\u001b[0m         \u001b[1;31m# error: Argument \"squeeze\" to \"DataFrameGroupBy\" has incompatible type\u001b[0m\u001b[1;33m\u001b[0m\u001b[1;33m\u001b[0m\u001b[0m\n\u001b[0;32m   7630\u001b[0m         \u001b[1;31m# \"Union[bool, NoDefault]\"; expected \"bool\"\u001b[0m\u001b[1;33m\u001b[0m\u001b[1;33m\u001b[0m\u001b[0m\n\u001b[1;32m-> 7631\u001b[1;33m         return DataFrameGroupBy(\n\u001b[0m\u001b[0;32m   7632\u001b[0m             \u001b[0mobj\u001b[0m\u001b[1;33m=\u001b[0m\u001b[0mself\u001b[0m\u001b[1;33m,\u001b[0m\u001b[1;33m\u001b[0m\u001b[1;33m\u001b[0m\u001b[0m\n\u001b[0;32m   7633\u001b[0m             \u001b[0mkeys\u001b[0m\u001b[1;33m=\u001b[0m\u001b[0mby\u001b[0m\u001b[1;33m,\u001b[0m\u001b[1;33m\u001b[0m\u001b[1;33m\u001b[0m\u001b[0m\n",
      "\u001b[1;32m~\\Anaconda3\\lib\\site-packages\\pandas\\core\\groupby\\groupby.py\u001b[0m in \u001b[0;36m__init__\u001b[1;34m(self, obj, keys, axis, level, grouper, exclusions, selection, as_index, sort, group_keys, squeeze, observed, mutated, dropna)\u001b[0m\n\u001b[0;32m    887\u001b[0m             \u001b[1;32mfrom\u001b[0m \u001b[0mpandas\u001b[0m\u001b[1;33m.\u001b[0m\u001b[0mcore\u001b[0m\u001b[1;33m.\u001b[0m\u001b[0mgroupby\u001b[0m\u001b[1;33m.\u001b[0m\u001b[0mgrouper\u001b[0m \u001b[1;32mimport\u001b[0m \u001b[0mget_grouper\u001b[0m\u001b[1;33m\u001b[0m\u001b[1;33m\u001b[0m\u001b[0m\n\u001b[0;32m    888\u001b[0m \u001b[1;33m\u001b[0m\u001b[0m\n\u001b[1;32m--> 889\u001b[1;33m             grouper, exclusions, obj = get_grouper(\n\u001b[0m\u001b[0;32m    890\u001b[0m                 \u001b[0mobj\u001b[0m\u001b[1;33m,\u001b[0m\u001b[1;33m\u001b[0m\u001b[1;33m\u001b[0m\u001b[0m\n\u001b[0;32m    891\u001b[0m                 \u001b[0mkeys\u001b[0m\u001b[1;33m,\u001b[0m\u001b[1;33m\u001b[0m\u001b[1;33m\u001b[0m\u001b[0m\n",
      "\u001b[1;32m~\\Anaconda3\\lib\\site-packages\\pandas\\core\\groupby\\grouper.py\u001b[0m in \u001b[0;36mget_grouper\u001b[1;34m(obj, key, axis, level, sort, observed, mutated, validate, dropna)\u001b[0m\n\u001b[0;32m    860\u001b[0m                 \u001b[0min_axis\u001b[0m\u001b[1;33m,\u001b[0m \u001b[0mlevel\u001b[0m\u001b[1;33m,\u001b[0m \u001b[0mgpr\u001b[0m \u001b[1;33m=\u001b[0m \u001b[1;32mFalse\u001b[0m\u001b[1;33m,\u001b[0m \u001b[0mgpr\u001b[0m\u001b[1;33m,\u001b[0m \u001b[1;32mNone\u001b[0m\u001b[1;33m\u001b[0m\u001b[1;33m\u001b[0m\u001b[0m\n\u001b[0;32m    861\u001b[0m             \u001b[1;32melse\u001b[0m\u001b[1;33m:\u001b[0m\u001b[1;33m\u001b[0m\u001b[1;33m\u001b[0m\u001b[0m\n\u001b[1;32m--> 862\u001b[1;33m                 \u001b[1;32mraise\u001b[0m \u001b[0mKeyError\u001b[0m\u001b[1;33m(\u001b[0m\u001b[0mgpr\u001b[0m\u001b[1;33m)\u001b[0m\u001b[1;33m\u001b[0m\u001b[1;33m\u001b[0m\u001b[0m\n\u001b[0m\u001b[0;32m    863\u001b[0m         \u001b[1;32melif\u001b[0m \u001b[0misinstance\u001b[0m\u001b[1;33m(\u001b[0m\u001b[0mgpr\u001b[0m\u001b[1;33m,\u001b[0m \u001b[0mGrouper\u001b[0m\u001b[1;33m)\u001b[0m \u001b[1;32mand\u001b[0m \u001b[0mgpr\u001b[0m\u001b[1;33m.\u001b[0m\u001b[0mkey\u001b[0m \u001b[1;32mis\u001b[0m \u001b[1;32mnot\u001b[0m \u001b[1;32mNone\u001b[0m\u001b[1;33m:\u001b[0m\u001b[1;33m\u001b[0m\u001b[1;33m\u001b[0m\u001b[0m\n\u001b[0;32m    864\u001b[0m             \u001b[1;31m# Add key to exclusions\u001b[0m\u001b[1;33m\u001b[0m\u001b[1;33m\u001b[0m\u001b[0m\n",
      "\u001b[1;31mKeyError\u001b[0m: 'RType'"
     ]
    }
   ],
   "source": [
    "df_both.groupby('RType').count()"
   ]
  },
  {
   "cell_type": "code",
   "execution_count": null,
   "metadata": {},
   "outputs": [
    {
     "data": {
      "text/plain": [
       "(array([ 34.,  81., 425., 784., 971., 220.,  48.,  11.,   4.,   1.]),\n",
       " array([ 0.        ,  1.31014482,  2.62028963,  3.93043445,  5.24057927,\n",
       "         6.55072409,  7.8608689 ,  9.17101372, 10.48115854, 11.79130335,\n",
       "        13.10144817]),\n",
       " <BarContainer object of 10 artists>)"
      ]
     },
     "execution_count": 21,
     "metadata": {},
     "output_type": "execute_result"
    },
    {
     "data": {
      "image/png": "[encoded data removed]",
      "text/plain": [
       "<Figure size 432x288 with 1 Axes>"
      ]
     },
     "metadata": {
      "needs_background": "light"
     },
     "output_type": "display_data"
    }
   ],
   "source": [
    "plt.hist(np.log(df_all['Enroll12_y'] + 1))"
   ]
  },
  {
   "cell_type": "code",
   "execution_count": null,
   "metadata": {},
   "outputs": [
    {
     "data": {
      "text/plain": [
       "<AxesSubplot:>"
      ]
     },
     "execution_count": 25,
     "metadata": {},
     "output_type": "execute_result"
    },
    {
     "data": {
      "image/png": "[encoded data removed]",
      "text/plain": [
       "<Figure size 432x288 with 1 Axes>"
      ]
     },
     "metadata": {
      "needs_background": "light"
     },
     "output_type": "display_data"
    }
   ],
   "source": [
    "df_all['Enroll11'].plot(kind = 'box')"
   ]
  },
  {
   "cell_type": "code",
   "execution_count": null,
   "metadata": {},
   "outputs": [
    {
     "data": {
      "text/plain": [
       "(522, 6)"
      ]
     },
     "execution_count": 35,
     "metadata": {},
     "output_type": "execute_result"
    }
   ],
   "source": [
    "df_districts = df_all.query('RType_x == \"D\"')\n",
    "df_districts.shape"
   ]
  },
  {
   "cell_type": "code",
   "execution_count": null,
   "metadata": {},
   "outputs": [
    {
     "data": {
      "text/plain": [
       "(array([ 35.,  41.,  77., 103.,  93.,  92.,  60.,  18.,   2.,   1.]),\n",
       " array([ 2.63905733,  3.43939364,  4.23972994,  5.04006625,  5.84040255,\n",
       "         6.64073886,  7.44107516,  8.24141147,  9.04174778,  9.84208408,\n",
       "        10.64242039]),\n",
       " <BarContainer object of 10 artists>)"
      ]
     },
     "execution_count": 36,
     "metadata": {},
     "output_type": "execute_result"
    },
    {
     "data": {
      "image/png": "[encoded data removed]",
      "text/plain": [
       "<Figure size 432x288 with 1 Axes>"
      ]
     },
     "metadata": {
      "needs_background": "light"
     },
     "output_type": "display_data"
    }
   ],
   "source": [
    "plt.hist(np.log(df_districts['Enroll12_y'] + 1))"
   ]
  },
  {
   "cell_type": "code",
   "execution_count": null,
   "metadata": {},
   "outputs": [
    {
     "data": {
      "text/plain": [
       "<AxesSubplot:>"
      ]
     },
     "execution_count": 37,
     "metadata": {},
     "output_type": "execute_result"
    },
    {
     "data": {
      "image/png": "[encoded data removed]",
      "text/plain": [
       "<Figure size 432x288 with 1 Axes>"
      ]
     },
     "metadata": {
      "needs_background": "light"
     },
     "output_type": "display_data"
    }
   ],
   "source": [
    "df_districts['Enroll11'].plot(kind = 'box')"
   ]
  },
  {
   "cell_type": "code",
   "execution_count": null,
   "metadata": {},
   "outputs": [
    {
     "data": {
      "text/plain": [
       "array([1.40132036e+01, 3.78954031e+03, 4.17727712e+04])"
      ]
     },
     "execution_count": 39,
     "metadata": {},
     "output_type": "execute_result"
    }
   ],
   "source": [
    "np.exp([2.64, 8.24, 10.64])"
   ]
  },
  {
   "cell_type": "markdown",
   "metadata": {},
   "source": [
    "Size is very inhomogeneous - even when we filter to only districts. Districts vary from 14 to more than 40,000 students."
   ]
  },
  {
   "cell_type": "code",
   "execution_count": null,
   "metadata": {},
   "outputs": [
    {
     "data": {
      "text/plain": [
       "(array([ 35.,  41.,  77., 103.,  93.,  92.,  60.,  18.,   2.,   1.]),\n",
       " array([ 2.63905733,  3.43939364,  4.23972994,  5.04006625,  5.84040255,\n",
       "         6.64073886,  7.44107516,  8.24141147,  9.04174778,  9.84208408,\n",
       "        10.64242039]),\n",
       " <BarContainer object of 10 artists>)"
      ]
     },
     "execution_count": 41,
     "metadata": {},
     "output_type": "execute_result"
    },
    {
     "data": {
      "image/png": "[encoded data removed]",
      "text/plain": [
       "<Figure size 432x288 with 1 Axes>"
      ]
     },
     "metadata": {
      "needs_background": "light"
     },
     "output_type": "display_data"
    }
   ],
   "source": [
    "plt.hist(np.log(df_all.query('RType_x == \"D\"')['Enroll12_y'] + 1))"
   ]
  },
  {
   "cell_type": "code",
   "execution_count": null,
   "metadata": {},
   "outputs": [
    {
     "data": {
      "text/plain": [
       "(array([  5.,   5.,  82., 134., 187., 268., 237., 240., 470.,  91.]),\n",
       " array([1.38629436, 1.95119178, 2.51608921, 3.08098663, 3.64588406,\n",
       "        4.21078148, 4.7756789 , 5.34057633, 5.90547375, 6.47037118,\n",
       "        7.0352686 ]),\n",
       " <BarContainer object of 10 artists>)"
      ]
     },
     "execution_count": 42,
     "metadata": {},
     "output_type": "execute_result"
    },
    {
     "data": {
      "image/png": "[encoded data removed]",
      "text/plain": [
       "<Figure size 432x288 with 1 Axes>"
      ]
     },
     "metadata": {
      "needs_background": "light"
     },
     "output_type": "display_data"
    }
   ],
   "source": [
    "plt.hist(np.log(df_all.query('RType_x == \"S\"')['Enroll12_y'] + 1))"
   ]
  },
  {
   "cell_type": "code",
   "execution_count": null,
   "metadata": {},
   "outputs": [],
   "source": []
  }
 ],
 "metadata": {
  "interpreter": {
   "hash": "9212599b6527739aacc5bcb356ff64f10af8be4731f2141d8d60dd08601fabb0"
  },
  "kernelspec": {
   "display_name": "Python 3.9.7 64-bit ('base': conda)",
   "language": "python",
   "name": "python3"
  },
  "language_info": {
   "codemirror_mode": {
    "name": "ipython",
    "version": 3
   },
   "file_extension": ".py",
   "mimetype": "text/x-python",
   "name": "python",
   "nbconvert_exporter": "python",
   "pygments_lexer": "ipython3",
   "version": "3.9.7"
  },
  "orig_nbformat": 4
 },
 "nbformat": 4,
 "nbformat_minor": 2
}
